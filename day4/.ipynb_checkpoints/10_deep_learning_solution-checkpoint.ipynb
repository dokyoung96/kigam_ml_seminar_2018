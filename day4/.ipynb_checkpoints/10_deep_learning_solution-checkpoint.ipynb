{
 "cells": [
  {
   "cell_type": "markdown",
   "metadata": {},
   "source": [
    "**10 – Deep Learning**"
   ]
  },
  {
   "cell_type": "markdown",
   "metadata": {},
   "source": [
    "# Setup"
   ]
  },
  {
   "cell_type": "code",
   "execution_count": 1,
   "metadata": {
    "collapsed": true
   },
   "outputs": [],
   "source": [
    "import numpy as np\n",
    "import os\n",
    "import tensorflow as tf\n",
    "\n",
    "# to make this notebook's output stable across runs\n",
    "def reset_graph(seed=42):\n",
    "    tf.reset_default_graph()\n",
    "    tf.set_random_seed(seed)\n",
    "    np.random.seed(seed)\n",
    "\n",
    "%matplotlib inline\n",
    "import matplotlib\n",
    "import matplotlib.pyplot as plt"
   ]
  },
  {
   "cell_type": "code",
   "execution_count": 2,
   "metadata": {
    "scrolled": true
   },
   "outputs": [
    {
     "name": "stdout",
     "output_type": "stream",
     "text": [
      "Extracting /tmp/data/train-images-idx3-ubyte.gz\n",
      "Extracting /tmp/data/train-labels-idx1-ubyte.gz\n",
      "Extracting /tmp/data/t10k-images-idx3-ubyte.gz\n",
      "Extracting /tmp/data/t10k-labels-idx1-ubyte.gz\n"
     ]
    }
   ],
   "source": [
    "from tensorflow.examples.tutorials.mnist import input_data\n",
    "\n",
    "mnist = input_data.read_data_sets(\"/tmp/data/\")\n",
    "\n",
    "X_train = mnist.train.images\n",
    "X_test = mnist.test.images\n",
    "y_train = mnist.train.labels.astype(\"int\")\n",
    "y_test = mnist.test.labels.astype(\"int\")"
   ]
  },
  {
   "cell_type": "code",
   "execution_count": 3,
   "metadata": {},
   "outputs": [
    {
     "name": "stdout",
     "output_type": "stream",
     "text": [
      "0 Train accuracy: 0.96 Test accuracy: 0.899\n",
      "1 Train accuracy: 0.98 Test accuracy: 0.9198\n"
     ]
    }
   ],
   "source": [
    "reset_graph()\n",
    "\n",
    "n_inputs = 28*28  # MNIST\n",
    "n_hidden1 = 300\n",
    "n_hidden2 = 100\n",
    "n_outputs = 10\n",
    "\n",
    "X = tf.placeholder(tf.float32, shape=(None, n_inputs), name=\"X\")\n",
    "y = tf.placeholder(tf.int64, shape=(None), name=\"y\") \n",
    "\n",
    "with tf.name_scope(\"dnn\"):\n",
    "    hidden1 = tf.layers.dense(X, n_hidden1, name=\"hidden1\",\n",
    "                              activation=tf.nn.relu)\n",
    "    hidden2 = tf.layers.dense(hidden1, n_hidden2, name=\"hidden2\",\n",
    "                              activation=tf.nn.relu)\n",
    "    logits = tf.layers.dense(hidden2, n_outputs, name=\"outputs\")\n",
    "\n",
    "with tf.name_scope(\"loss\"):\n",
    "    xentropy = tf.nn.sparse_softmax_cross_entropy_with_logits(labels=y, logits=logits)\n",
    "    loss = tf.reduce_mean(xentropy, name=\"loss\")\n",
    "\n",
    "learning_rate = 0.01\n",
    "\n",
    "with tf.name_scope(\"train\"):\n",
    "    optimizer = tf.train.GradientDescentOptimizer(learning_rate)\n",
    "    training_op = optimizer.minimize(loss)\n",
    "\n",
    "with tf.name_scope(\"eval\"):\n",
    "    correct = tf.nn.in_top_k(logits, y, 1)\n",
    "    accuracy = tf.reduce_mean(tf.cast(correct, tf.float32))\n",
    "\n",
    "init = tf.global_variables_initializer()\n",
    "\n",
    "n_epochs = 2\n",
    "batch_size = 50\n",
    "\n",
    "with tf.Session() as sess:\n",
    "    init.run()\n",
    "    for epoch in range(n_epochs):\n",
    "        for iteration in range(mnist.train.num_examples // batch_size):\n",
    "            X_batch, y_batch = mnist.train.next_batch(batch_size, shuffle=False)\n",
    "            sess.run(training_op, feed_dict={X: X_batch, y: y_batch})\n",
    "            \n",
    "        acc_train = accuracy.eval(feed_dict={X: X_batch, y: y_batch})\n",
    "        acc_test = accuracy.eval(feed_dict={X: X_test, y: y_test})        \n",
    "        print(epoch, \"Train accuracy:\", acc_train, \"Test accuracy:\", acc_test)\n",
    "\n"
   ]
  },
  {
   "cell_type": "markdown",
   "metadata": {},
   "source": [
    "# Add summary for tensorboard"
   ]
  },
  {
   "cell_type": "code",
   "execution_count": 4,
   "metadata": {
    "scrolled": true
   },
   "outputs": [
    {
     "name": "stdout",
     "output_type": "stream",
     "text": [
      "0 Train accuracy: 0.96 Test accuracy: 0.899\n",
      "1 Train accuracy: 0.98 Test accuracy: 0.9198\n",
      "2 Train accuracy: 0.98 Test accuracy: 0.928\n",
      "3 Train accuracy: 1.0 Test accuracy: 0.9358\n",
      "4 Train accuracy: 1.0 Test accuracy: 0.9422\n",
      "5 Train accuracy: 1.0 Test accuracy: 0.9466\n",
      "6 Train accuracy: 1.0 Test accuracy: 0.9504\n",
      "7 Train accuracy: 1.0 Test accuracy: 0.9538\n",
      "8 Train accuracy: 1.0 Test accuracy: 0.957\n",
      "9 Train accuracy: 1.0 Test accuracy: 0.9594\n"
     ]
    }
   ],
   "source": [
    "reset_graph()\n",
    "\n",
    "n_inputs = 28*28  # MNIST\n",
    "n_hidden1 = 300\n",
    "n_hidden2 = 100\n",
    "n_outputs = 10\n",
    "\n",
    "from datetime import datetime                                   #-----new------#\n",
    "now = datetime.utcnow().strftime(\"%H%M%S\")                      #-----new------#\n",
    "\n",
    "root_logdir = \"./logs\"                                          #-----new------#\n",
    "logdir = \"{}/{}_{}\".format(root_logdir, \"relu\", now)   #-----new------#\n",
    "\n",
    "X = tf.placeholder(tf.float32, shape=(None, n_inputs), name=\"X\")\n",
    "y = tf.placeholder(tf.int64, shape=(None), name=\"y\") \n",
    "\n",
    "with tf.name_scope(\"dnn\"):\n",
    "    hidden1 = tf.layers.dense(X, n_hidden1, name=\"hidden1\",\n",
    "                              activation=tf.nn.relu)\n",
    "    hidden2 = tf.layers.dense(hidden1, n_hidden2, name=\"hidden2\",\n",
    "                              activation=tf.nn.relu)\n",
    "    logits = tf.layers.dense(hidden2, n_outputs, name=\"outputs\")\n",
    "\n",
    "with tf.name_scope(\"loss\"):\n",
    "    xentropy = tf.nn.sparse_softmax_cross_entropy_with_logits(labels=y, logits=logits)\n",
    "    loss = tf.reduce_mean(xentropy, name=\"loss\")\n",
    "\n",
    "learning_rate = 0.01\n",
    "\n",
    "with tf.name_scope(\"train\"):\n",
    "    optimizer = tf.train.GradientDescentOptimizer(learning_rate)\n",
    "    training_op = optimizer.minimize(loss)\n",
    "\n",
    "with tf.name_scope(\"eval\"):\n",
    "    correct = tf.nn.in_top_k(logits, y, 1)\n",
    "    accuracy = tf.reduce_mean(tf.cast(correct, tf.float32))\n",
    "\n",
    "init = tf.global_variables_initializer()\n",
    "\n",
    "acc_summary = tf.summary.scalar('accuracy', accuracy)                    #-----new------#\n",
    "loss_summary = tf.summary.scalar('loss', loss)                            #-----new------#\n",
    "merged = tf.summary.merge_all()                                            #-----new------#\n",
    "\n",
    "train_writer = tf.summary.FileWriter(logdir + '/train', tf.get_default_graph())        #-----new------#\n",
    "test_writer = tf.summary.FileWriter(logdir + '/test')                        #-----new------#\n",
    " \n",
    "n_epochs = 10\n",
    "batch_size = 50\n",
    "\n",
    "with tf.Session() as sess:\n",
    "    init.run()\n",
    "    for epoch in range(n_epochs):\n",
    "        for iteration in range(mnist.train.num_examples // batch_size):\n",
    "            X_batch, y_batch = mnist.train.next_batch(batch_size, shuffle=False)\n",
    "            sess.run(training_op, feed_dict={X: X_batch, y: y_batch})\n",
    "            \n",
    "        acc_train, summary_train = sess.run([accuracy, merged], feed_dict={X: X_batch, y: y_batch})    #-----new------# \n",
    "        acc_test, summary_test = sess.run([accuracy, merged], feed_dict={X: X_test, y: y_test})     #-----new------#\n",
    "        train_writer.add_summary(summary_train, epoch)       #-----new------#\n",
    "        test_writer.add_summary(summary_test, epoch)         #-----new------#\n",
    "        \n",
    "        print(epoch, \"Train accuracy:\", acc_train, \"Test accuracy:\", acc_test)\n",
    "\n"
   ]
  },
  {
   "cell_type": "markdown",
   "metadata": {},
   "source": [
    "# Standard Scaler"
   ]
  },
  {
   "cell_type": "code",
   "execution_count": 5,
   "metadata": {
    "collapsed": true
   },
   "outputs": [],
   "source": [
    "from sklearn.preprocessing import StandardScaler\n",
    "scaler = StandardScaler()\n",
    "X_train_scaled = scaler.fit_transform(X_train)\n",
    "X_test_scaled = scaler.transform(X_test)"
   ]
  },
  {
   "cell_type": "code",
   "execution_count": 6,
   "metadata": {},
   "outputs": [
    {
     "name": "stdout",
     "output_type": "stream",
     "text": [
      "0 Train accuracy: 0.96 Test accuracy: 0.9249\n",
      "1 Train accuracy: 1.0 Test accuracy: 0.9417\n",
      "2 Train accuracy: 1.0 Test accuracy: 0.9504\n",
      "3 Train accuracy: 1.0 Test accuracy: 0.955\n",
      "4 Train accuracy: 1.0 Test accuracy: 0.9583\n",
      "5 Train accuracy: 1.0 Test accuracy: 0.9614\n",
      "6 Train accuracy: 1.0 Test accuracy: 0.9621\n",
      "7 Train accuracy: 1.0 Test accuracy: 0.9636\n",
      "8 Train accuracy: 1.0 Test accuracy: 0.9641\n",
      "9 Train accuracy: 1.0 Test accuracy: 0.9653\n"
     ]
    }
   ],
   "source": [
    "reset_graph()\n",
    "\n",
    "n_inputs = 28*28  # MNIST\n",
    "n_hidden1 = 300\n",
    "n_hidden2 = 100\n",
    "n_outputs = 10\n",
    "\n",
    "from datetime import datetime                                   #-----new------#\n",
    "now = datetime.utcnow().strftime(\"%H%M%S\")                      #-----new------#\n",
    "\n",
    "root_logdir = \"./logs\"                                          #-----new------#\n",
    "logdir = \"{}/{}_{}_{}\".format(root_logdir, \"relu\", \"std\", now)   #-----new------#\n",
    "\n",
    "X = tf.placeholder(tf.float32, shape=(None, n_inputs), name=\"X\")\n",
    "y = tf.placeholder(tf.int64, shape=(None), name=\"y\") \n",
    "\n",
    "with tf.name_scope(\"dnn\"):\n",
    "    hidden1 = tf.layers.dense(X, n_hidden1, name=\"hidden1\",\n",
    "                              activation=tf.nn.relu)\n",
    "    hidden2 = tf.layers.dense(hidden1, n_hidden2, name=\"hidden2\",\n",
    "                              activation=tf.nn.relu)\n",
    "    logits = tf.layers.dense(hidden2, n_outputs, name=\"outputs\")\n",
    "\n",
    "with tf.name_scope(\"loss\"):\n",
    "    xentropy = tf.nn.sparse_softmax_cross_entropy_with_logits(labels=y, logits=logits)\n",
    "    loss = tf.reduce_mean(xentropy, name=\"loss\")\n",
    "\n",
    "learning_rate = 0.01\n",
    "\n",
    "with tf.name_scope(\"train\"):\n",
    "    optimizer = tf.train.GradientDescentOptimizer(learning_rate)\n",
    "    training_op = optimizer.minimize(loss)\n",
    "\n",
    "with tf.name_scope(\"eval\"):\n",
    "    correct = tf.nn.in_top_k(logits, y, 1)\n",
    "    accuracy = tf.reduce_mean(tf.cast(correct, tf.float32))\n",
    "\n",
    "init = tf.global_variables_initializer()\n",
    "\n",
    "acc_summary = tf.summary.scalar('accuracy', accuracy)                    #-----new------#\n",
    "loss_summary = tf.summary.scalar('loss', loss)                            #-----new------#\n",
    "merged = tf.summary.merge_all()                                            #-----new------#\n",
    "\n",
    "train_writer = tf.summary.FileWriter(logdir + '/train', tf.get_default_graph())        #-----new------#\n",
    "test_writer = tf.summary.FileWriter(logdir + '/test')                        #-----new------#\n",
    " \n",
    "n_epochs = 10\n",
    "batch_size = 50\n",
    "\n",
    "with tf.Session() as sess:\n",
    "    init.run()\n",
    "    for epoch in range(n_epochs):\n",
    "        for iteration in range(mnist.train.num_examples // batch_size):\n",
    "            X_batch, y_batch = mnist.train.next_batch(batch_size, shuffle=False)\n",
    "            sess.run(training_op, feed_dict={X: scaler.transform(X_batch), y: y_batch})\n",
    "            \n",
    "        acc_train, summary_train = sess.run([accuracy, merged], feed_dict={X: scaler.transform(X_batch), y: y_batch})    #-----new------# \n",
    "        acc_test, summary_test = sess.run([accuracy, merged], feed_dict={X: X_test_scaled, y: y_test})     #-----new------#\n",
    "        train_writer.add_summary(summary_train, epoch)       #-----new------#\n",
    "        test_writer.add_summary(summary_test, epoch)         #-----new------#\n",
    "        \n",
    "        print(epoch, \"Train accuracy:\", acc_train, \"Test accuracy:\", acc_test)\n",
    "\n"
   ]
  },
  {
   "cell_type": "markdown",
   "metadata": {},
   "source": [
    "# He Initialization"
   ]
  },
  {
   "cell_type": "code",
   "execution_count": 7,
   "metadata": {},
   "outputs": [
    {
     "name": "stdout",
     "output_type": "stream",
     "text": [
      "0 Train accuracy: 1.0 Test accuracy: 0.9234\n",
      "1 Train accuracy: 1.0 Test accuracy: 0.9432\n",
      "2 Train accuracy: 1.0 Test accuracy: 0.9496\n",
      "3 Train accuracy: 1.0 Test accuracy: 0.9537\n",
      "4 Train accuracy: 1.0 Test accuracy: 0.9559\n",
      "5 Train accuracy: 1.0 Test accuracy: 0.9586\n",
      "6 Train accuracy: 1.0 Test accuracy: 0.9605\n",
      "7 Train accuracy: 1.0 Test accuracy: 0.9628\n",
      "8 Train accuracy: 1.0 Test accuracy: 0.9638\n",
      "9 Train accuracy: 1.0 Test accuracy: 0.9649\n"
     ]
    }
   ],
   "source": [
    "reset_graph()\n",
    "\n",
    "n_inputs = 28*28  # MNIST\n",
    "n_hidden1 = 300\n",
    "n_hidden2 = 100\n",
    "n_outputs = 10\n",
    "\n",
    "from datetime import datetime                                   \n",
    "now = datetime.utcnow().strftime(\"%H%M%S\")                      \n",
    "\n",
    "root_logdir = \"./logs\"                                         \n",
    "logdir = \"{}/{}_{}_{}_{}\".format(root_logdir, \"relu\", \"He\", \"std\", now)  \n",
    "\n",
    "X = tf.placeholder(tf.float32, shape=(None, n_inputs), name=\"X\")\n",
    "y = tf.placeholder(tf.int64, shape=(None), name=\"y\") \n",
    "\n",
    "with tf.name_scope(\"dnn\"):\n",
    "    he_init = tf.contrib.layers.variance_scaling_initializer()                     #-----new------#\n",
    "\n",
    "    hidden1 = tf.layers.dense(X, n_hidden1, name=\"hidden1\", kernel_initializer=he_init, #-----new------#\n",
    "                              activation=tf.nn.relu)\n",
    "    hidden2 = tf.layers.dense(hidden1, n_hidden2, name=\"hidden2\", kernel_initializer=he_init, #-----new------#\n",
    "                              activation=tf.nn.relu)\n",
    "    logits = tf.layers.dense(hidden2, n_outputs, kernel_initializer=he_init, name=\"outputs\")  #-----new------#\n",
    "\n",
    "with tf.name_scope(\"loss\"):\n",
    "    xentropy = tf.nn.sparse_softmax_cross_entropy_with_logits(labels=y, logits=logits)\n",
    "    loss = tf.reduce_mean(xentropy, name=\"loss\")\n",
    "\n",
    "learning_rate = 0.01\n",
    "\n",
    "with tf.name_scope(\"train\"):\n",
    "    optimizer = tf.train.GradientDescentOptimizer(learning_rate)\n",
    "    training_op = optimizer.minimize(loss)\n",
    "\n",
    "with tf.name_scope(\"eval\"):\n",
    "    correct = tf.nn.in_top_k(logits, y, 1)\n",
    "    accuracy = tf.reduce_mean(tf.cast(correct, tf.float32))\n",
    "\n",
    "init = tf.global_variables_initializer()\n",
    "\n",
    "acc_summary = tf.summary.scalar('accuracy', accuracy)                   \n",
    "loss_summary = tf.summary.scalar('loss', loss)                          \n",
    "merged = tf.summary.merge_all()                                         \n",
    "\n",
    "train_writer = tf.summary.FileWriter(logdir + '/train', tf.get_default_graph())  \n",
    "test_writer = tf.summary.FileWriter(logdir + '/test')                        \n",
    " \n",
    "n_epochs = 10\n",
    "batch_size = 50\n",
    "\n",
    "with tf.Session() as sess:\n",
    "    init.run()\n",
    "    for epoch in range(n_epochs):\n",
    "        for iteration in range(mnist.train.num_examples // batch_size):\n",
    "            X_batch, y_batch = mnist.train.next_batch(batch_size, shuffle=False)\n",
    "            sess.run(training_op, feed_dict={X: scaler.transform(X_batch), y: y_batch})\n",
    "            \n",
    "        acc_train, summary_train = sess.run([accuracy, merged], feed_dict={X: scaler.transform(X_batch), y: y_batch})    \n",
    "        acc_test, summary_test = sess.run([accuracy, merged], feed_dict={X: scaler.transform(X_test), y: y_test})     \n",
    "        train_writer.add_summary(summary_train, epoch)       \n",
    "        test_writer.add_summary(summary_test, epoch)         \n",
    "        \n",
    "        print(epoch, \"Train accuracy:\", acc_train, \"Test accuracy:\", acc_test)\n",
    "\n"
   ]
  },
  {
   "cell_type": "markdown",
   "metadata": {},
   "source": [
    "# Nonsaturating Activation Functions"
   ]
  },
  {
   "cell_type": "markdown",
   "metadata": {},
   "source": [
    "## Leaky ReLU"
   ]
  },
  {
   "cell_type": "markdown",
   "metadata": {},
   "source": [
    "numpy"
   ]
  },
  {
   "cell_type": "code",
   "execution_count": 8,
   "metadata": {
    "collapsed": true
   },
   "outputs": [],
   "source": [
    "def leaky_relu(z, alpha=0.01):\n",
    "    return np.maximum(alpha*z, z)"
   ]
  },
  {
   "cell_type": "code",
   "execution_count": 9,
   "metadata": {
    "scrolled": true
   },
   "outputs": [
    {
     "data": {
      "image/png": "[encoded data removed]",
      "text/plain": [
       "<matplotlib.figure.Figure at 0x14f80dda0f0>"
      ]
     },
     "metadata": {},
     "output_type": "display_data"
    }
   ],
   "source": [
    "z = np.linspace(-5, 5, 100)\n",
    "plt.plot(z, leaky_relu(z, 0.05), \"b-\", linewidth=2)\n",
    "plt.plot([-5, 5], [0, 0], 'k-')\n",
    "plt.plot([0, 0], [-0.5, 4.2], 'k-')\n",
    "plt.grid(True)\n",
    "plt.title(\"Leaky ReLU activation function\", fontsize=14)\n",
    "plt.axis([-5, 5, -0.5, 4.2])\n",
    "plt.show()"
   ]
  },
  {
   "cell_type": "markdown",
   "metadata": {},
   "source": [
    "in TensorFlow"
   ]
  },
  {
   "cell_type": "code",
   "execution_count": 10,
   "metadata": {
    "collapsed": true
   },
   "outputs": [],
   "source": [
    "def leaky_relu(z, name=None):\n",
    "    return tf.maximum(0.01 * z, z, name=name)"
   ]
  },
  {
   "cell_type": "code",
   "execution_count": 11,
   "metadata": {},
   "outputs": [
    {
     "name": "stdout",
     "output_type": "stream",
     "text": [
      "0 Train accuracy: 0.98 Test accuracy: 0.9223\n",
      "1 Train accuracy: 1.0 Test accuracy: 0.9372\n",
      "2 Train accuracy: 1.0 Test accuracy: 0.9467\n",
      "3 Train accuracy: 1.0 Test accuracy: 0.9518\n",
      "4 Train accuracy: 1.0 Test accuracy: 0.9558\n",
      "5 Train accuracy: 1.0 Test accuracy: 0.9592\n",
      "6 Train accuracy: 1.0 Test accuracy: 0.9613\n",
      "7 Train accuracy: 1.0 Test accuracy: 0.9627\n",
      "8 Train accuracy: 1.0 Test accuracy: 0.964\n",
      "9 Train accuracy: 1.0 Test accuracy: 0.965\n"
     ]
    }
   ],
   "source": [
    "reset_graph()\n",
    "\n",
    "n_inputs = 28*28  # MNIST\n",
    "n_hidden1 = 300\n",
    "n_hidden2 = 100\n",
    "n_outputs = 10\n",
    "\n",
    "from datetime import datetime                                   \n",
    "now = datetime.utcnow().strftime(\"%H%M%S\")                      \n",
    "\n",
    "root_logdir = \"./logs\"                                         \n",
    "logdir = \"{}/{}_{}_{}\".format(root_logdir, \"lrelu\", \"std\", now)  \n",
    "\n",
    "X = tf.placeholder(tf.float32, shape=(None, n_inputs), name=\"X\")\n",
    "y = tf.placeholder(tf.int64, shape=(None), name=\"y\") \n",
    "\n",
    "with tf.name_scope(\"dnn\"):\n",
    "    he_init = tf.contrib.layers.variance_scaling_initializer()                    \n",
    "\n",
    "    hidden1 = tf.layers.dense(X, n_hidden1, name=\"hidden1\",\n",
    "                              activation=leaky_relu)                                         #-----new------#\n",
    "    hidden2 = tf.layers.dense(hidden1, n_hidden2, name=\"hidden2\",\n",
    "                              activation=leaky_relu)                                         #-----new------#\n",
    "    logits = tf.layers.dense(hidden2, n_outputs,  name=\"outputs\")  #-----new------#\n",
    "\n",
    "with tf.name_scope(\"loss\"):\n",
    "    xentropy = tf.nn.sparse_softmax_cross_entropy_with_logits(labels=y, logits=logits)\n",
    "    loss = tf.reduce_mean(xentropy, name=\"loss\")\n",
    "\n",
    "learning_rate = 0.01\n",
    "\n",
    "with tf.name_scope(\"train\"):\n",
    "    optimizer = tf.train.GradientDescentOptimizer(learning_rate)\n",
    "    training_op = optimizer.minimize(loss)\n",
    "\n",
    "with tf.name_scope(\"eval\"):\n",
    "    correct = tf.nn.in_top_k(logits, y, 1)\n",
    "    accuracy = tf.reduce_mean(tf.cast(correct, tf.float32))\n",
    "\n",
    "init = tf.global_variables_initializer()\n",
    "\n",
    "acc_summary = tf.summary.scalar('accuracy', accuracy)                   \n",
    "loss_summary = tf.summary.scalar('loss', loss)                          \n",
    "merged = tf.summary.merge_all()                                         \n",
    "\n",
    "train_writer = tf.summary.FileWriter(logdir + '/train', tf.get_default_graph())  \n",
    "test_writer = tf.summary.FileWriter(logdir + '/test')                        \n",
    " \n",
    "n_epochs = 10\n",
    "batch_size = 50\n",
    "\n",
    "with tf.Session() as sess:\n",
    "    init.run()\n",
    "    for epoch in range(n_epochs):\n",
    "        for iteration in range(mnist.train.num_examples // batch_size):\n",
    "            X_batch, y_batch = mnist.train.next_batch(batch_size, shuffle=False)\n",
    "            sess.run(training_op, feed_dict={X: scaler.transform(X_batch), y: y_batch})\n",
    "            \n",
    "        acc_train, summary_train = sess.run([accuracy, merged], feed_dict={X: scaler.transform(X_batch), y: y_batch}) \n",
    "        acc_test, summary_test = sess.run([accuracy, merged], feed_dict={X: scaler.transform(X_test), y: y_test})     \n",
    "        train_writer.add_summary(summary_train, epoch)       \n",
    "        test_writer.add_summary(summary_test, epoch)         \n",
    "        \n",
    "        print(epoch, \"Train accuracy:\", acc_train, \"Test accuracy:\", acc_test)\n",
    "\n"
   ]
  },
  {
   "cell_type": "markdown",
   "metadata": {},
   "source": [
    "## ELU"
   ]
  },
  {
   "cell_type": "code",
   "execution_count": 12,
   "metadata": {
    "collapsed": true
   },
   "outputs": [],
   "source": [
    "def elu(z, alpha=1):\n",
    "    return np.where(z < 0, alpha * (np.exp(z) - 1), z)"
   ]
  },
  {
   "cell_type": "code",
   "execution_count": 13,
   "metadata": {
    "scrolled": true
   },
   "outputs": [
    {
     "data": {
      "image/png": "[encoded data removed]",
      "text/plain": [
       "<matplotlib.figure.Figure at 0x14f809e6208>"
      ]
     },
     "metadata": {},
     "output_type": "display_data"
    }
   ],
   "source": [
    "plt.plot(z, elu(z), \"b-\", linewidth=2)\n",
    "plt.plot([-5, 5], [0, 0], 'k-')\n",
    "plt.plot([-5, 5], [-1, -1], 'k--')\n",
    "plt.plot([0, 0], [-2.2, 3.2], 'k-')\n",
    "plt.grid(True)\n",
    "plt.title(r\"ELU activation function ($\\alpha=1$)\", fontsize=14)\n",
    "plt.axis([-5, 5, -2.2, 3.2])\n",
    "\n",
    "plt.show()"
   ]
  },
  {
   "cell_type": "code",
   "execution_count": 14,
   "metadata": {
    "scrolled": true
   },
   "outputs": [
    {
     "name": "stdout",
     "output_type": "stream",
     "text": [
      "0 Train accuracy: 0.96 Test accuracy: 0.9235\n",
      "1 Train accuracy: 0.98 Test accuracy: 0.9381\n",
      "2 Train accuracy: 1.0 Test accuracy: 0.9462\n",
      "3 Train accuracy: 1.0 Test accuracy: 0.9514\n",
      "4 Train accuracy: 1.0 Test accuracy: 0.9541\n",
      "5 Train accuracy: 1.0 Test accuracy: 0.9568\n",
      "6 Train accuracy: 1.0 Test accuracy: 0.9602\n",
      "7 Train accuracy: 1.0 Test accuracy: 0.9619\n",
      "8 Train accuracy: 1.0 Test accuracy: 0.9626\n",
      "9 Train accuracy: 1.0 Test accuracy: 0.9642\n"
     ]
    }
   ],
   "source": [
    "reset_graph()\n",
    "\n",
    "n_inputs = 28*28  # MNIST\n",
    "n_hidden1 = 300\n",
    "n_hidden2 = 100\n",
    "n_outputs = 10\n",
    "\n",
    "from datetime import datetime                                   \n",
    "now = datetime.utcnow().strftime(\"%H%M%S\")                      \n",
    "\n",
    "root_logdir = \"./logs\"                                         \n",
    "logdir = \"{}/{}_{}_{}\".format(root_logdir, \"elu\", \"std\", now)  \n",
    "\n",
    "X = tf.placeholder(tf.float32, shape=(None, n_inputs), name=\"X\")\n",
    "y = tf.placeholder(tf.int64, shape=(None), name=\"y\") \n",
    "\n",
    "with tf.name_scope(\"dnn\"):\n",
    "    he_init = tf.contrib.layers.variance_scaling_initializer()                    \n",
    "\n",
    "    hidden1 = tf.layers.dense(X, n_hidden1, name=\"hidden1\",\n",
    "                              activation=tf.nn.elu)                                         #-----new------#\n",
    "    hidden2 = tf.layers.dense(hidden1, n_hidden2, name=\"hidden2\",\n",
    "                              activation=tf.nn.elu)                                         #-----new------#\n",
    "    logits = tf.layers.dense(hidden2, n_outputs,  name=\"outputs\")  \n",
    "\n",
    "with tf.name_scope(\"loss\"):\n",
    "    xentropy = tf.nn.sparse_softmax_cross_entropy_with_logits(labels=y, logits=logits)\n",
    "    loss = tf.reduce_mean(xentropy, name=\"loss\")\n",
    "\n",
    "learning_rate = 0.01\n",
    "\n",
    "with tf.name_scope(\"train\"):\n",
    "    optimizer = tf.train.GradientDescentOptimizer(learning_rate)\n",
    "    training_op = optimizer.minimize(loss)\n",
    "\n",
    "with tf.name_scope(\"eval\"):\n",
    "    correct = tf.nn.in_top_k(logits, y, 1)\n",
    "    accuracy = tf.reduce_mean(tf.cast(correct, tf.float32))\n",
    "\n",
    "init = tf.global_variables_initializer()\n",
    "\n",
    "acc_summary = tf.summary.scalar('accuracy', accuracy)                   \n",
    "loss_summary = tf.summary.scalar('loss', loss)                          \n",
    "merged = tf.summary.merge_all()                                         \n",
    "\n",
    "train_writer = tf.summary.FileWriter(logdir + '/train', tf.get_default_graph())  \n",
    "test_writer = tf.summary.FileWriter(logdir + '/test')                        \n",
    " \n",
    "n_epochs = 10\n",
    "batch_size = 50\n",
    "\n",
    "with tf.Session() as sess:\n",
    "    init.run()\n",
    "    for epoch in range(n_epochs):\n",
    "        for iteration in range(mnist.train.num_examples // batch_size):\n",
    "            X_batch, y_batch = mnist.train.next_batch(batch_size, shuffle=False)\n",
    "            sess.run(training_op, feed_dict={X: scaler.transform(X_batch), y: y_batch})\n",
    "            \n",
    "        acc_train, summary_train = sess.run([accuracy, merged], feed_dict={X: scaler.transform(X_batch), y: y_batch}) \n",
    "        acc_test, summary_test = sess.run([accuracy, merged], feed_dict={X: scaler.transform(X_test), y: y_test})     \n",
    "        train_writer.add_summary(summary_train, epoch)       \n",
    "        test_writer.add_summary(summary_test, epoch)         \n",
    "        \n",
    "        print(epoch, \"Train accuracy:\", acc_train, \"Test accuracy:\", acc_test)\n",
    "\n"
   ]
  },
  {
   "cell_type": "markdown",
   "metadata": {},
   "source": [
    "## SELU"
   ]
  },
  {
   "cell_type": "code",
   "execution_count": 15,
   "metadata": {
    "collapsed": true
   },
   "outputs": [],
   "source": [
    "def selu(z,\n",
    "         scale=1.0507009873554804934193349852946,\n",
    "         alpha=1.6732632423543772848170429916717):\n",
    "    return scale * elu(z, alpha)"
   ]
  },
  {
   "cell_type": "code",
   "execution_count": 16,
   "metadata": {
    "scrolled": true
   },
   "outputs": [
    {
     "data": {
      "image/png": "[encoded data removed]",
      "text/plain": [
       "<matplotlib.figure.Figure at 0x14f800977f0>"
      ]
     },
     "metadata": {},
     "output_type": "display_data"
    }
   ],
   "source": [
    "plt.plot(z, selu(z), \"b-\", linewidth=2)\n",
    "plt.plot([-5, 5], [0, 0], 'k-')\n",
    "plt.plot([-5, 5], [-1.758, -1.758], 'k--')\n",
    "plt.plot([0, 0], [-2.2, 3.2], 'k-')\n",
    "plt.grid(True)\n",
    "plt.title(r\"SELU activation function\", fontsize=14)\n",
    "plt.axis([-5, 5, -2.2, 3.2])\n",
    "\n",
    "plt.show()"
   ]
  },
  {
   "cell_type": "markdown",
   "metadata": {},
   "source": [
    "in TensorFlow"
   ]
  },
  {
   "cell_type": "code",
   "execution_count": 17,
   "metadata": {
    "collapsed": true
   },
   "outputs": [],
   "source": [
    "def selu(z,\n",
    "         scale=1.0507009873554804934193349852946,\n",
    "         alpha=1.6732632423543772848170429916717):\n",
    "    return scale * tf.where(z >= 0.0, z, alpha * tf.nn.elu(z))"
   ]
  },
  {
   "cell_type": "code",
   "execution_count": 18,
   "metadata": {
    "scrolled": true
   },
   "outputs": [
    {
     "name": "stdout",
     "output_type": "stream",
     "text": [
      "0 Train accuracy: 0.96 Test accuracy: 0.9193\n",
      "1 Train accuracy: 0.98 Test accuracy: 0.9339\n",
      "2 Train accuracy: 1.0 Test accuracy: 0.9426\n",
      "3 Train accuracy: 1.0 Test accuracy: 0.95\n",
      "4 Train accuracy: 1.0 Test accuracy: 0.954\n",
      "5 Train accuracy: 1.0 Test accuracy: 0.9563\n",
      "6 Train accuracy: 1.0 Test accuracy: 0.9586\n",
      "7 Train accuracy: 1.0 Test accuracy: 0.96\n",
      "8 Train accuracy: 1.0 Test accuracy: 0.9614\n",
      "9 Train accuracy: 1.0 Test accuracy: 0.963\n"
     ]
    }
   ],
   "source": [
    "reset_graph()\n",
    "\n",
    "n_inputs = 28*28  # MNIST\n",
    "n_hidden1 = 300\n",
    "n_hidden2 = 100\n",
    "n_outputs = 10\n",
    "\n",
    "from datetime import datetime                                   \n",
    "now = datetime.utcnow().strftime(\"%H%M%S\")                      \n",
    "\n",
    "root_logdir = \"./logs\"                                         \n",
    "logdir = \"{}/{}_{}_{}\".format(root_logdir, \"selu\", \"std\", now)  \n",
    "\n",
    "X = tf.placeholder(tf.float32, shape=(None, n_inputs), name=\"X\")\n",
    "y = tf.placeholder(tf.int64, shape=(None), name=\"y\") \n",
    "\n",
    "with tf.name_scope(\"dnn\"):\n",
    "    he_init = tf.contrib.layers.variance_scaling_initializer()                    \n",
    "\n",
    "    hidden1 = tf.layers.dense(X, n_hidden1, name=\"hidden1\",\n",
    "                              activation=selu)                                         #-----new------#\n",
    "    hidden2 = tf.layers.dense(hidden1, n_hidden2, name=\"hidden2\",\n",
    "                              activation=selu)                                         #-----new------#\n",
    "    logits = tf.layers.dense(hidden2, n_outputs,  name=\"outputs\")  \n",
    "\n",
    "with tf.name_scope(\"loss\"):\n",
    "    xentropy = tf.nn.sparse_softmax_cross_entropy_with_logits(labels=y, logits=logits)\n",
    "    loss = tf.reduce_mean(xentropy, name=\"loss\")\n",
    "\n",
    "learning_rate = 0.01\n",
    "\n",
    "with tf.name_scope(\"train\"):\n",
    "    optimizer = tf.train.GradientDescentOptimizer(learning_rate)\n",
    "    training_op = optimizer.minimize(loss)\n",
    "\n",
    "with tf.name_scope(\"eval\"):\n",
    "    correct = tf.nn.in_top_k(logits, y, 1)\n",
    "    accuracy = tf.reduce_mean(tf.cast(correct, tf.float32))\n",
    "\n",
    "init = tf.global_variables_initializer()\n",
    "\n",
    "acc_summary = tf.summary.scalar('accuracy', accuracy)                   \n",
    "loss_summary = tf.summary.scalar('loss', loss)                          \n",
    "merged = tf.summary.merge_all()                                         \n",
    "\n",
    "train_writer = tf.summary.FileWriter(logdir + '/train', tf.get_default_graph())  \n",
    "test_writer = tf.summary.FileWriter(logdir + '/test')                        \n",
    " \n",
    "n_epochs = 10\n",
    "batch_size = 50\n",
    "\n",
    "with tf.Session() as sess:\n",
    "    init.run()\n",
    "    for epoch in range(n_epochs):\n",
    "        for iteration in range(mnist.train.num_examples // batch_size):\n",
    "            X_batch, y_batch = mnist.train.next_batch(batch_size, shuffle=False)\n",
    "            sess.run(training_op, feed_dict={X: scaler.transform(X_batch), y: y_batch})\n",
    "            \n",
    "        acc_train, summary_train = sess.run([accuracy, merged], feed_dict={X: scaler.transform(X_batch), y: y_batch}) \n",
    "        acc_test, summary_test = sess.run([accuracy, merged], feed_dict={X: scaler.transform(X_test), y: y_test})     \n",
    "        train_writer.add_summary(summary_train, epoch)       \n",
    "        test_writer.add_summary(summary_test, epoch)         \n",
    "        \n",
    "        print(epoch, \"Train accuracy:\", acc_train, \"Test accuracy:\", acc_test)\n",
    "\n"
   ]
  },
  {
   "cell_type": "markdown",
   "metadata": {},
   "source": [
    "# Batch Normalization"
   ]
  },
  {
   "cell_type": "code",
   "execution_count": 20,
   "metadata": {},
   "outputs": [
    {
     "name": "stdout",
     "output_type": "stream",
     "text": [
      "0 Train accuracy: 0.98 Test accuracy: 0.9092\n",
      "1 Train accuracy: 1.0 Test accuracy: 0.9302\n",
      "2 Train accuracy: 1.0 Test accuracy: 0.9433\n",
      "3 Train accuracy: 1.0 Test accuracy: 0.9512\n",
      "4 Train accuracy: 1.0 Test accuracy: 0.9573\n",
      "5 Train accuracy: 1.0 Test accuracy: 0.9603\n",
      "6 Train accuracy: 1.0 Test accuracy: 0.9626\n",
      "7 Train accuracy: 1.0 Test accuracy: 0.9647\n",
      "8 Train accuracy: 1.0 Test accuracy: 0.9656\n",
      "9 Train accuracy: 1.0 Test accuracy: 0.9668\n"
     ]
    }
   ],
   "source": [
    "reset_graph()\n",
    "\n",
    "n_inputs = 28*28  # MNIST\n",
    "n_hidden1 = 300\n",
    "n_hidden2 = 100\n",
    "n_outputs = 10\n",
    "\n",
    "from datetime import datetime                                   \n",
    "now = datetime.utcnow().strftime(\"%H%M%S\")                      \n",
    "\n",
    "root_logdir = \"./logs\"                                         \n",
    "logdir = \"{}/{}_{}_{}_{}\".format(root_logdir, \"elu\", \"std\", \"BN\", now)  \n",
    "\n",
    "X = tf.placeholder(tf.float32, shape=(None, n_inputs), name=\"X\")\n",
    "y = tf.placeholder(tf.int64, shape=(None), name=\"y\") \n",
    "\n",
    "training = tf.placeholder_with_default(False, shape=(), name='training')        #-----new------#\n",
    "batch_norm_momentum = 0.9                                   #-----new------#\n",
    "from functools import partial                             #-----new------#\n",
    "\n",
    "with tf.name_scope(\"dnn\"):\n",
    "    he_init = tf.contrib.layers.variance_scaling_initializer()                    \n",
    "    #-----------------------------new-----------------------------------#\n",
    "    my_batch_norm_layer = partial(                                \n",
    "            tf.layers.batch_normalization,\n",
    "            training=training,\n",
    "            momentum=batch_norm_momentum)\n",
    "\n",
    "    my_dense_layer = partial(\n",
    "            tf.layers.dense,\n",
    "            kernel_initializer=he_init)\n",
    "\n",
    "    hidden1 = my_dense_layer(X, n_hidden1, name=\"hidden1\")\n",
    "    bn1 = tf.nn.elu(my_batch_norm_layer(hidden1))\n",
    "    hidden2 = my_dense_layer(bn1, n_hidden2, name=\"hidden2\")\n",
    "    bn2 = tf.nn.elu(my_batch_norm_layer(hidden2))\n",
    "    logits_before_bn = my_dense_layer(bn2, n_outputs, name=\"outputs\")\n",
    "    logits = my_batch_norm_layer(logits_before_bn)\n",
    "    #-------------------------------------------------------------------#\n",
    "    \n",
    "#     hidden1 = tf.layers.dense(X, n_hidden1, kernel_initializer=he_init, name=\"hidden1\")                                         \n",
    "#     bn1 = tf.layers.batch_normalization(hidden1, training=training, momentum=batch_norm_momentum)\n",
    "#     elu1 = tf.nn.elu(bn1)\n",
    "    \n",
    "#     hidden2 = tf.layers.dense(elu1, n_hidden2, kernel_initializer=he_init, name=\"hidden2\")                                         \n",
    "#     bn2 = tf.layers.batch_normalization(hidden2, training=training, momentum=batch_norm_momentum)\n",
    "#     elu2 = tf.nn.elu(bn2)\n",
    "    \n",
    "#     logits_before_bn = tf.layers.dense(elu2, n_outputs, kernel_initializer=he_init, name=\"outputs\")  \n",
    "#     logits = tf.layers.batch_normalization(logits_before_bn, training=training, momentum=batch_norm_momentum)\n",
    "\n",
    "    \n",
    "    \n",
    "with tf.name_scope(\"loss\"):\n",
    "    xentropy = tf.nn.sparse_softmax_cross_entropy_with_logits(labels=y, logits=logits)\n",
    "    loss = tf.reduce_mean(xentropy, name=\"loss\")\n",
    "\n",
    "learning_rate = 0.01\n",
    "\n",
    "with tf.name_scope(\"train\"):\n",
    "    optimizer = tf.train.GradientDescentOptimizer(learning_rate)\n",
    "    training_op = optimizer.minimize(loss)\n",
    "\n",
    "with tf.name_scope(\"eval\"):\n",
    "    correct = tf.nn.in_top_k(logits, y, 1)\n",
    "    accuracy = tf.reduce_mean(tf.cast(correct, tf.float32))\n",
    "\n",
    "init = tf.global_variables_initializer()\n",
    "\n",
    "acc_summary = tf.summary.scalar('accuracy', accuracy)                   \n",
    "loss_summary = tf.summary.scalar('loss', loss)                          \n",
    "merged = tf.summary.merge_all()                                         \n",
    "\n",
    "train_writer = tf.summary.FileWriter(logdir + '/train', tf.get_default_graph())  \n",
    "test_writer = tf.summary.FileWriter(logdir + '/test')                        \n",
    " \n",
    "n_epochs = 10\n",
    "batch_size = 50\n",
    "\n",
    "extra_update_ops = tf.get_collection(tf.GraphKeys.UPDATE_OPS)            #-----new------#\n",
    "\n",
    "with tf.Session() as sess:\n",
    "    init.run()\n",
    "    for epoch in range(n_epochs):\n",
    "        for iteration in range(mnist.train.num_examples // batch_size):\n",
    "            X_batch, y_batch = mnist.train.next_batch(batch_size, shuffle=False)\n",
    "            sess.run([training_op, extra_update_ops], feed_dict={training: True, X: X_batch, y: y_batch}) #-----new------#\n",
    "            \n",
    "        acc_train, summary_train = sess.run([accuracy, merged], feed_dict={X: X_batch, y: y_batch}) \n",
    "        acc_test, summary_test = sess.run([accuracy, merged], feed_dict={X: X_test, y: y_test})     \n",
    "        train_writer.add_summary(summary_train, epoch)       \n",
    "        test_writer.add_summary(summary_test, epoch)         \n",
    "        \n",
    "        print(epoch, \"Train accuracy:\", acc_train, \"Test accuracy:\", acc_test)\n"
   ]
  },
  {
   "cell_type": "markdown",
   "metadata": {},
   "source": [
    "# Faster Optimizers"
   ]
  },
  {
   "cell_type": "code",
   "execution_count": 21,
   "metadata": {},
   "outputs": [
    {
     "name": "stdout",
     "output_type": "stream",
     "text": [
      "0 Train accuracy: 0.94 Test accuracy: 0.9512\n",
      "1 Train accuracy: 0.96 Test accuracy: 0.9624\n",
      "2 Train accuracy: 0.98 Test accuracy: 0.9694\n",
      "3 Train accuracy: 1.0 Test accuracy: 0.972\n",
      "4 Train accuracy: 0.98 Test accuracy: 0.9679\n",
      "5 Train accuracy: 1.0 Test accuracy: 0.9693\n",
      "6 Train accuracy: 1.0 Test accuracy: 0.9706\n",
      "7 Train accuracy: 1.0 Test accuracy: 0.9754\n",
      "8 Train accuracy: 1.0 Test accuracy: 0.9773\n",
      "9 Train accuracy: 1.0 Test accuracy: 0.9769\n"
     ]
    }
   ],
   "source": [
    "reset_graph()\n",
    "\n",
    "n_inputs = 28*28  # MNIST\n",
    "n_hidden1 = 300\n",
    "n_hidden2 = 100\n",
    "n_outputs = 10\n",
    "\n",
    "from datetime import datetime                                   \n",
    "now = datetime.utcnow().strftime(\"%H%M%S\")                      \n",
    "\n",
    "root_logdir = \"./logs\"                                         \n",
    "logdir = \"{}/{}_{}_{}_{}_{}\".format(root_logdir, \"elu\", \"std\", \"BN\", 'Adam', now)  \n",
    "\n",
    "X = tf.placeholder(tf.float32, shape=(None, n_inputs), name=\"X\")\n",
    "y = tf.placeholder(tf.int64, shape=(None), name=\"y\") \n",
    "\n",
    "training = tf.placeholder_with_default(False, shape=(), name='training')        \n",
    "batch_norm_momentum = 0.9                                   \n",
    "from functools import partial                            \n",
    "\n",
    "with tf.name_scope(\"dnn\"):\n",
    "    he_init = tf.contrib.layers.variance_scaling_initializer()                    \n",
    "    \n",
    "    hidden1 = tf.layers.dense(X, n_hidden1, kernel_initializer=he_init, name=\"hidden1\")                                         \n",
    "    bn1 = tf.layers.batch_normalization(hidden1, training=training, momentum=batch_norm_momentum)\n",
    "    elu1 = tf.nn.elu(bn1)\n",
    "    \n",
    "    hidden2 = tf.layers.dense(elu1, n_hidden2, kernel_initializer=he_init, name=\"hidden2\")                                         \n",
    "    bn2 = tf.layers.batch_normalization(hidden2, training=training, momentum=batch_norm_momentum)\n",
    "    elu2 = tf.nn.elu(bn2)\n",
    "    \n",
    "    logits_before_bn = tf.layers.dense(elu2, n_outputs, kernel_initializer=he_init, name=\"outputs\")  \n",
    "    logits = tf.layers.batch_normalization(logits_before_bn, training=training, momentum=batch_norm_momentum)\n",
    "\n",
    "    \n",
    "    \n",
    "with tf.name_scope(\"loss\"):\n",
    "    xentropy = tf.nn.sparse_softmax_cross_entropy_with_logits(labels=y, logits=logits)\n",
    "    loss = tf.reduce_mean(xentropy, name=\"loss\")\n",
    "\n",
    "learning_rate = 0.01\n",
    "\n",
    "with tf.name_scope(\"train\"):\n",
    "    optimizer = tf.train.AdamOptimizer(learning_rate)           #-----new------#\n",
    "    training_op = optimizer.minimize(loss)\n",
    "\n",
    "with tf.name_scope(\"eval\"):\n",
    "    correct = tf.nn.in_top_k(logits, y, 1)\n",
    "    accuracy = tf.reduce_mean(tf.cast(correct, tf.float32))\n",
    "\n",
    "init = tf.global_variables_initializer()\n",
    "\n",
    "acc_summary = tf.summary.scalar('accuracy', accuracy)                   \n",
    "loss_summary = tf.summary.scalar('loss', loss)                          \n",
    "merged = tf.summary.merge_all()                                         \n",
    "\n",
    "train_writer = tf.summary.FileWriter(logdir + '/train', tf.get_default_graph())  \n",
    "test_writer = tf.summary.FileWriter(logdir + '/test')                        \n",
    " \n",
    "n_epochs = 10\n",
    "batch_size = 50\n",
    "\n",
    "extra_update_ops = tf.get_collection(tf.GraphKeys.UPDATE_OPS)           \n",
    "\n",
    "with tf.Session() as sess:\n",
    "    init.run()\n",
    "    for epoch in range(n_epochs):\n",
    "        for iteration in range(mnist.train.num_examples // batch_size):\n",
    "            X_batch, y_batch = mnist.train.next_batch(batch_size, shuffle=False)\n",
    "            sess.run([training_op, extra_update_ops], feed_dict={training: True, X: X_batch, y: y_batch}) \n",
    "            \n",
    "        acc_train, summary_train = sess.run([accuracy, merged], feed_dict={X: X_batch, y: y_batch}) \n",
    "        acc_test, summary_test = sess.run([accuracy, merged], feed_dict={X: X_test, y: y_test})     \n",
    "        train_writer.add_summary(summary_train, epoch)       \n",
    "        test_writer.add_summary(summary_test, epoch)         \n",
    "        \n",
    "        print(epoch, \"Train accuracy:\", acc_train, \"Test accuracy:\", acc_test)\n"
   ]
  },
  {
   "cell_type": "markdown",
   "metadata": {},
   "source": [
    "# Dropout"
   ]
  },
  {
   "cell_type": "code",
   "execution_count": 22,
   "metadata": {},
   "outputs": [
    {
     "name": "stdout",
     "output_type": "stream",
     "text": [
      "0 Train accuracy: 0.98 Test accuracy: 0.9151\n",
      "1 Train accuracy: 1.0 Test accuracy: 0.9368\n",
      "2 Train accuracy: 1.0 Test accuracy: 0.9466\n",
      "3 Train accuracy: 1.0 Test accuracy: 0.9529\n",
      "4 Train accuracy: 1.0 Test accuracy: 0.9583\n",
      "5 Train accuracy: 0.98 Test accuracy: 0.9618\n",
      "6 Train accuracy: 0.98 Test accuracy: 0.9656\n",
      "7 Train accuracy: 0.98 Test accuracy: 0.965\n",
      "8 Train accuracy: 1.0 Test accuracy: 0.9683\n",
      "9 Train accuracy: 1.0 Test accuracy: 0.9701\n"
     ]
    }
   ],
   "source": [
    "reset_graph()\n",
    "\n",
    "n_inputs = 28*28  # MNIST\n",
    "n_hidden1 = 300\n",
    "n_hidden2 = 100\n",
    "n_outputs = 10\n",
    "\n",
    "from datetime import datetime                                   \n",
    "now = datetime.utcnow().strftime(\"%H%M%S\")                      \n",
    "\n",
    "root_logdir = \"./logs\"                                         \n",
    "logdir = \"{}/{}_{}_{}_{}_{}\".format(root_logdir, \"elu\", \"std\", \"BN\", 'Adam', now)  \n",
    "\n",
    "X = tf.placeholder(tf.float32, shape=(None, n_inputs), name=\"X\")\n",
    "y = tf.placeholder(tf.int64, shape=(None), name=\"y\") \n",
    "\n",
    "training = tf.placeholder_with_default(False, shape=(), name='training')        \n",
    "batch_norm_momentum = 0.9                                   \n",
    "\n",
    "dropout_rate = 0.5  # == 1 - keep_prob                            #-----new------#\n",
    "X_drop = tf.layers.dropout(X, dropout_rate, training=training)      #-----new------#\n",
    "\n",
    "with tf.name_scope(\"dnn\"):\n",
    "    he_init = tf.contrib.layers.variance_scaling_initializer()                    \n",
    "    \n",
    "    hidden1 = tf.layers.dense(X, n_hidden1, kernel_initializer=he_init, name=\"hidden1\")                                         \n",
    "    bn1 = tf.layers.batch_normalization(hidden1, training=training, momentum=batch_norm_momentum)\n",
    "    elu1 = tf.nn.elu(bn1)\n",
    "    hidden1_drop = tf.layers.dropout(elu1, dropout_rate, training=training)            #-----new------#\n",
    "    \n",
    "    hidden2 = tf.layers.dense(hidden1_drop, n_hidden2, kernel_initializer=he_init, name=\"hidden2\")            #-----new------#                              \n",
    "    bn2 = tf.layers.batch_normalization(hidden2, training=training, momentum=batch_norm_momentum)\n",
    "    elu2 = tf.nn.elu(bn2)\n",
    "    hidden2_drop = tf.layers.dropout(elu2, dropout_rate, training=training)            #-----new------#\n",
    "\n",
    "    logits_before_bn = tf.layers.dense(hidden2_drop, n_outputs, kernel_initializer=he_init, name=\"outputs\")   #-----new------#\n",
    "    logits = tf.layers.batch_normalization(logits_before_bn, training=training, momentum=batch_norm_momentum)\n",
    "\n",
    "    \n",
    "    \n",
    "with tf.name_scope(\"loss\"):\n",
    "    xentropy = tf.nn.sparse_softmax_cross_entropy_with_logits(labels=y, logits=logits)\n",
    "    loss = tf.reduce_mean(xentropy, name=\"loss\")\n",
    "\n",
    "learning_rate = 0.001\n",
    "\n",
    "with tf.name_scope(\"train\"):\n",
    "    optimizer = tf.train.AdamOptimizer(learning_rate)           \n",
    "    training_op = optimizer.minimize(loss)\n",
    "\n",
    "with tf.name_scope(\"eval\"):\n",
    "    correct = tf.nn.in_top_k(logits, y, 1)\n",
    "    accuracy = tf.reduce_mean(tf.cast(correct, tf.float32))\n",
    "\n",
    "init = tf.global_variables_initializer()\n",
    "\n",
    "acc_summary = tf.summary.scalar('accuracy', accuracy)                   \n",
    "loss_summary = tf.summary.scalar('loss', loss)                          \n",
    "merged = tf.summary.merge_all()                                         \n",
    "\n",
    "train_writer = tf.summary.FileWriter(logdir + '/train', tf.get_default_graph())  \n",
    "test_writer = tf.summary.FileWriter(logdir + '/test')                        \n",
    " \n",
    "n_epochs = 10\n",
    "batch_size = 50\n",
    "\n",
    "extra_update_ops = tf.get_collection(tf.GraphKeys.UPDATE_OPS)           \n",
    "\n",
    "with tf.Session() as sess:\n",
    "    init.run()\n",
    "    for epoch in range(n_epochs):\n",
    "        for iteration in range(mnist.train.num_examples // batch_size):\n",
    "            X_batch, y_batch = mnist.train.next_batch(batch_size, shuffle=False)\n",
    "            sess.run([training_op, extra_update_ops], feed_dict={training: True, X: X_batch, y: y_batch}) \n",
    "            \n",
    "        acc_train, summary_train = sess.run([accuracy, merged], feed_dict={X: X_batch, y: y_batch}) \n",
    "        acc_test, summary_test = sess.run([accuracy, merged], feed_dict={X: X_test, y: y_test})     \n",
    "        train_writer.add_summary(summary_train, epoch)       \n",
    "        test_writer.add_summary(summary_test, epoch)         \n",
    "        \n",
    "        print(epoch, \"Train accuracy:\", acc_train, \"Test accuracy:\", acc_test)\n"
   ]
  }
 ],
 "metadata": {
  "kernelspec": {
   "display_name": "Python 3",
   "language": "python",
   "name": "python3"
  },
  "language_info": {
   "codemirror_mode": {
    "name": "ipython",
    "version": 3
   },
   "file_extension": ".py",
   "mimetype": "text/x-python",
   "name": "python",
   "nbconvert_exporter": "python",
   "pygments_lexer": "ipython3",
   "version": "3.6.1"
  },
  "nav_menu": {
   "height": "360px",
   "width": "416px"
  },
  "toc": {
   "navigate_menu": true,
   "number_sections": true,
   "sideBar": true,
   "threshold": 6,
   "toc_cell": false,
   "toc_section_display": "block",
   "toc_window_display": false
  }
 },
 "nbformat": 4,
 "nbformat_minor": 1
}
