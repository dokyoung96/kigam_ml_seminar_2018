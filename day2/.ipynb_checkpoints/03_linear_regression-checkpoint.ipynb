{
 "cells": [
  {
   "cell_type": "code",
   "execution_count": null,
   "metadata": {
    "collapsed": true
   },
   "outputs": [],
   "source": [
    "import numpy as np\n",
    "import os\n",
    "import matplotlib.pyplot as plt\n",
    "%matplotlib inline\n",
    "np.random.seed(42)"
   ]
  },
  {
   "cell_type": "markdown",
   "metadata": {},
   "source": [
    "$y = 0.5X^2 + X + 2 +$Gaussian Noise"
   ]
  },
  {
   "cell_type": "code",
   "execution_count": null,
   "metadata": {
    "collapsed": true,
    "scrolled": true
   },
   "outputs": [],
   "source": [
    "m = 100\n",
    "X = 6 * np.random.rand(m, 1) - 3\n",
    "y = 0.5 * X**2 + X + 2 + np.random.randn(m, 1)\n",
    "\n",
    "def plot_data():\n",
    "    plt.plot(X, y, \"b.\")\n",
    "    plt.xlabel(\"$x_1$\", fontsize=18)\n",
    "    plt.ylabel(\"$y$\", rotation=0, fontsize=18)\n",
    "    plt.axis([-3, 3, 0, 10])\n",
    "plot_data()"
   ]
  },
  {
   "cell_type": "code",
   "execution_count": null,
   "metadata": {
    "collapsed": true
   },
   "outputs": [],
   "source": [
    "from sklearn.linear_model import LinearRegression\n",
    "lin_reg = ??         #instantiate the estimator\n",
    "lin_reg.??           #train model"
   ]
  },
  {
   "cell_type": "code",
   "execution_count": null,
   "metadata": {
    "collapsed": true
   },
   "outputs": [],
   "source": [
    "X_new = np.linspace(-3,3,100).reshape(-1,1)\n",
    "y_new = lin_reg.??         #predict the response for a X_new "
   ]
  },
  {
   "cell_type": "code",
   "execution_count": null,
   "metadata": {
    "collapsed": true,
    "scrolled": false
   },
   "outputs": [],
   "source": [
    "plot_data()\n",
    "plt.plot(X_new, y_new, 'r')"
   ]
  },
  {
   "cell_type": "markdown",
   "metadata": {},
   "source": [
    "# Polynomial Regression"
   ]
  },
  {
   "cell_type": "code",
   "execution_count": null,
   "metadata": {
    "collapsed": true
   },
   "outputs": [],
   "source": [
    "from sklearn.preprocessing import PolynomialFeatures\n",
    "poly_features = ??                \n",
    "X_poly = poly_features.??         "
   ]
  },
  {
   "cell_type": "code",
   "execution_count": null,
   "metadata": {
    "collapsed": true
   },
   "outputs": [],
   "source": [
    "from sklearn.preprocessing import StandardScaler\n",
    "std_scaler = ??\n",
    "X_poly_scaled = std_scaler.??"
   ]
  },
  {
   "cell_type": "code",
   "execution_count": null,
   "metadata": {
    "collapsed": true
   },
   "outputs": [],
   "source": [
    "from sklearn.linear_model import LinearRegression\n",
    "lin_reg_poly_scaled = ??\n",
    "lin_reg_poly_scaled.??"
   ]
  },
  {
   "cell_type": "markdown",
   "metadata": {},
   "source": [
    "Predict values for `X_new`"
   ]
  },
  {
   "cell_type": "code",
   "execution_count": 1,
   "metadata": {},
   "outputs": [
    {
     "ename": "NameError",
     "evalue": "name 'poly_features' is not defined",
     "output_type": "error",
     "traceback": [
      "\u001b[1;31m---------------------------------------------------------------------------\u001b[0m",
      "\u001b[1;31mNameError\u001b[0m                                 Traceback (most recent call last)",
      "\u001b[1;32m<ipython-input-1-94678f532f26>\u001b[0m in \u001b[0;36m<module>\u001b[1;34m()\u001b[0m\n\u001b[1;32m----> 1\u001b[1;33m \u001b[0mX_new_poly\u001b[0m \u001b[1;33m=\u001b[0m \u001b[0mpoly_features\u001b[0m\u001b[1;33m.\u001b[0m\u001b[0mtransform\u001b[0m\u001b[1;33m(\u001b[0m\u001b[0mX_new\u001b[0m\u001b[1;33m)\u001b[0m\u001b[1;33m\u001b[0m\u001b[0m\n\u001b[0m\u001b[0;32m      2\u001b[0m \u001b[0mX_new_poly_scaled\u001b[0m \u001b[1;33m=\u001b[0m \u001b[0mstd_scaler\u001b[0m\u001b[1;33m.\u001b[0m\u001b[0mtransform\u001b[0m\u001b[1;33m(\u001b[0m\u001b[0mX_new_poly\u001b[0m\u001b[1;33m)\u001b[0m\u001b[1;33m\u001b[0m\u001b[0m\n\u001b[0;32m      3\u001b[0m \u001b[0my_new_poly_scaled_pred\u001b[0m \u001b[1;33m=\u001b[0m \u001b[0mlin_reg_poly_scaled\u001b[0m\u001b[1;33m.\u001b[0m\u001b[0mpredict\u001b[0m\u001b[1;33m(\u001b[0m\u001b[0mX_new_poly_scaled\u001b[0m\u001b[1;33m)\u001b[0m\u001b[1;33m\u001b[0m\u001b[0m\n",
      "\u001b[1;31mNameError\u001b[0m: name 'poly_features' is not defined"
     ]
    }
   ],
   "source": [
    "X_new_poly = ??\n",
    "X_new_poly_scaled = ??\n",
    "y_new_poly_scaled_pred = ??"
   ]
  },
  {
   "cell_type": "code",
   "execution_count": null,
   "metadata": {
    "collapsed": true,
    "scrolled": true
   },
   "outputs": [],
   "source": [
    "plot_data()\n",
    "plt.plot(X_new, y_new_poly_scaled_pred, 'r')"
   ]
  },
  {
   "cell_type": "markdown",
   "metadata": {},
   "source": [
    "# Polynomial Regression with Pipeline"
   ]
  },
  {
   "cell_type": "code",
   "execution_count": null,
   "metadata": {
    "collapsed": true,
    "scrolled": true
   },
   "outputs": [],
   "source": [
    "from sklearn.preprocessing import PolynomialFeatures\n",
    "from sklearn.preprocessing import StandardScaler\n",
    "from sklearn.pipeline import Pipeline\n",
    "from sklearn.linear_model import LinearRegression\n",
    "\n",
    "poly_features = PolynomialFeatures(degree=20, include_bias=False)\n",
    "scaler = StandardScaler()\n",
    "model = LinearRegression()\n",
    "\n",
    "polynomial_regression = Pipeline??\n",
    "\n",
    "polynomial_regression.?? # train model\n",
    "\n",
    "y_new = polynomial_regression.?? # predict for X_new\n",
    "\n",
    "plot_data()\n",
    "plt.plot(X_new, y_new, 'r')"
   ]
  },
  {
   "cell_type": "markdown",
   "metadata": {},
   "source": [
    "# Regularization"
   ]
  },
  {
   "cell_type": "markdown",
   "metadata": {},
   "source": [
    "Try Lasso, Ridge, ElasticNet instead of LinearRegression"
   ]
  },
  {
   "cell_type": "code",
   "execution_count": null,
   "metadata": {
    "collapsed": true,
    "scrolled": false
   },
   "outputs": [],
   "source": [
    "from sklearn.preprocessing import PolynomialFeatures\n",
    "from sklearn.preprocessing import StandardScaler\n",
    "from sklearn.pipeline import Pipeline\n",
    "from sklearn.linear_model import LinearRegression\n",
    "from sklearn.linear_model import Lasso\n",
    "from sklearn.linear_model import Ridge\n",
    "from sklearn.linear_model import ElasticNet\n",
    "\n",
    "poly_features = PolynomialFeatures(degree=20, include_bias=False)\n",
    "scaler = StandardScaler()\n",
    "# model = LinearRegression()\n",
    "\n",
    "alpha = 0.1\n",
    "max_iter=100\n",
    "model = ??\n",
    "\n",
    "polynomial_regression = Pipeline([\n",
    "    (\"poly_features\",  poly_features),\n",
    "    (\"std_scaler\", scaler),\n",
    "    (\"model\", model),\n",
    "])\n",
    "polynomial_regression.fit(X, y)\n",
    "\n",
    "y_new = polynomial_regression.predict(X_new)\n",
    "\n",
    "plot_data()\n",
    "plt.plot(X_new, y_new, 'r')\n",
    "\n",
    "model.coef_"
   ]
  },
  {
   "cell_type": "markdown",
   "metadata": {},
   "source": [
    "# Evaluate Model"
   ]
  },
  {
   "cell_type": "code",
   "execution_count": null,
   "metadata": {
    "collapsed": true
   },
   "outputs": [],
   "source": [
    "#import module to split train and test data\n",
    "from sklearn.model_selection import ??\n",
    "\n",
    "from sklearn.metrics import mean_squared_error\n",
    "\n",
    "np.random.seed(42)\n",
    "m = 100\n",
    "X = 6 * np.random.rand(m, 1) - 3\n",
    "y = 2 + X + 0.5 * X**2 + np.random.randn(m, 1)"
   ]
  },
  {
   "cell_type": "code",
   "execution_count": null,
   "metadata": {
    "collapsed": true,
    "scrolled": true
   },
   "outputs": [],
   "source": [
    "X_train, X_val, y_train, y_val = ??(X[:50], y[:50], test_size=0.5, random_state=10)\n",
    "def plot_tran_test_data():\n",
    "    plt.plot(X_train, y_train,'k.')\n",
    "    plt.plot(X_val, y_val,'rx')\n",
    "    plt.legend(['Train', 'Test'])\n",
    "plot_tran_test_data()"
   ]
  },
  {
   "cell_type": "code",
   "execution_count": null,
   "metadata": {
    "collapsed": true
   },
   "outputs": [],
   "source": [
    "# Make a pipeline using PolynomialFeatures and StandardScaler\n",
    "poly_scaler = Pipeline??\n",
    "\n",
    "\n",
    "\n",
    "X_train_poly_scaled = poly_scaler.??(X_train)\n",
    "X_val_poly_scaled = poly_scaler.??(X_val)"
   ]
  },
  {
   "cell_type": "code",
   "execution_count": null,
   "metadata": {
    "collapsed": true
   },
   "outputs": [],
   "source": [
    "from sklearn.linear_model import SGDRegressor\n",
    "\n",
    "sgd = SGDRegressor(n_iter =1,\n",
    "                   penalty=None,                       \n",
    "                   eta0=0.0005,\n",
    "                   warm_start=True,\n",
    "                   learning_rate=\"constant\",\n",
    "                   random_state=42)\n",
    "\n",
    "sgd_reg = SGDRegressor(n_iter =1,\n",
    "                       penalty='l1',\n",
    "                       alpha=0.02,\n",
    "                       eta0=0.0005,\n",
    "                       warm_start=True,\n",
    "                       learning_rate=\"constant\",\n",
    "                       random_state=42)"
   ]
  },
  {
   "cell_type": "code",
   "execution_count": null,
   "metadata": {
    "collapsed": true,
    "scrolled": true
   },
   "outputs": [],
   "source": [
    "from copy import deepcopy\n",
    "\n",
    "n_epochs = 1000\n",
    "\n",
    "train_errors, val_errors = [], []\n",
    "minimum_val_error = float(\"inf\") \n",
    "\n",
    "for epoch in range(n_epochs):\n",
    "    sgd.fit(X_train_poly_scaled, y_train)\n",
    "    \n",
    "    y_train_predict = ??\n",
    "    y_val_predict = ??\n",
    "    \n",
    "    \n",
    "    train_error = mean_squared_error(??)\n",
    "    train_errors.??(train_error)\n",
    "    \n",
    "    val_error = mean_squared_error(??)\n",
    "    val_errors.??(val_error)    \n",
    "    \n",
    "    # find the sgd instance for the lowest validation error\n",
    "    if ?? < ??:\n",
    "        minimum_val_error = val_error\n",
    "        best_model = ??(sgd)\n",
    "\n",
    "best_epoch = np.??(val_errors)\n",
    "best_val_rmse = np.sqrt(val_errors[best_epoch])     \n",
    "\n"
   ]
  },
  {
   "cell_type": "code",
   "execution_count": null,
   "metadata": {
    "collapsed": true
   },
   "outputs": [],
   "source": [
    "n_epochs = 1000\n",
    "\n",
    "train_errors_reg, val_errors_reg = [], []\n",
    "minimum_val_error_reg = float(\"inf\")\n",
    "\n",
    "for epoch in range(n_epochs):\n",
    "    sgd_reg.fit(X_train_poly_scaled, y_train)\n",
    "    \n",
    "    y_train_predict_reg = sgd_reg.predict(X_train_poly_scaled)    \n",
    "    y_val_predict_reg = sgd_reg.predict(X_val_poly_scaled)\n",
    "    \n",
    "    train_errors_reg.append(mean_squared_error(y_train_predict_reg, y_train))\n",
    "    val_error_reg = mean_squared_error(y_val_predict_reg, y_val)\n",
    "    val_errors_reg.append(val_error_reg)    \n",
    "\n",
    "    if val_error_reg < minimum_val_error_reg:\n",
    "        minimum_val_error_reg = val_error_reg \n",
    "        best_model_reg = deepcopy(sgd_reg)\n",
    "        \n",
    "best_epoch_reg = np.argmin(val_errors_reg)\n",
    "best_val_rmse_reg = np.sqrt(val_errors_reg[best_epoch_reg])\n"
   ]
  },
  {
   "cell_type": "code",
   "execution_count": null,
   "metadata": {
    "collapsed": true,
    "scrolled": true
   },
   "outputs": [],
   "source": [
    "plt.annotate('Best model',\n",
    "             xy=(best_epoch, best_val_rmse),\n",
    "             xytext=(best_epoch, best_val_rmse + 1),\n",
    "             ha=\"center\",\n",
    "             arrowprops=dict(facecolor='black', shrink=0.05),\n",
    "             fontsize=16,\n",
    "            )\n",
    "plt.annotate('Best model reg',\n",
    "             xy=(best_epoch_reg, best_val_rmse_reg),\n",
    "             xytext=(best_epoch_reg, best_val_rmse_reg + 1),\n",
    "             ha=\"center\",\n",
    "             arrowprops=dict(facecolor='red', shrink=0.05),\n",
    "             fontsize=16,\n",
    "            )\n",
    "plt.plot(np.sqrt(val_errors), \"k-\", linewidth=3, label=\"Validation set\")\n",
    "plt.plot(np.sqrt(train_errors), \"k--\", linewidth=2, label=\"Training set\")\n",
    "plt.plot(np.sqrt(val_errors_reg), \"r-\", linewidth=3, label=\"Validation set with reg\")\n",
    "plt.plot(np.sqrt(train_errors_reg), \"r--\", linewidth=2, label=\"Training set with reg\")\n",
    "\n",
    "plt.legend(loc=\"upper right\", fontsize=14)\n",
    "plt.xlabel(\"Epoch\", fontsize=14)\n",
    "plt.ylabel(\"RMSE\", fontsize=14)"
   ]
  },
  {
   "cell_type": "code",
   "execution_count": null,
   "metadata": {
    "collapsed": true
   },
   "outputs": [],
   "source": [
    "X_new = np.linspace(-3, 3, 100).reshape(-1, 1)\n",
    "X_new_poly_scaled = poly_scaler.??(X_new)\n",
    "y_new_poly_scaled = best_model.??(X_new_poly_scaled)\n",
    "y_new_poly_scaled_reg = best_model_reg.??(X_new_poly_scaled)"
   ]
  },
  {
   "cell_type": "code",
   "execution_count": null,
   "metadata": {
    "collapsed": true
   },
   "outputs": [],
   "source": [
    "plot_tran_test_data()\n",
    "plt.plot(X_new, y_new_poly_scaled, 'b')\n",
    "plt.plot(X_new, y_new_poly_scaled_reg, 'r')\n",
    "plt.axis([-3, 3, 0, 10])\n",
    "plt.legend(['Train','Test','without reg','with reg'])\n"
   ]
  },
  {
   "cell_type": "code",
   "execution_count": null,
   "metadata": {
    "collapsed": true
   },
   "outputs": [],
   "source": []
  }
 ],
 "metadata": {
  "kernelspec": {
   "display_name": "Python 3",
   "language": "python",
   "name": "python3"
  },
  "language_info": {
   "codemirror_mode": {
    "name": "ipython",
    "version": 3
   },
   "file_extension": ".py",
   "mimetype": "text/x-python",
   "name": "python",
   "nbconvert_exporter": "python",
   "pygments_lexer": "ipython3",
   "version": "3.6.3"
  }
 },
 "nbformat": 4,
 "nbformat_minor": 2
}
